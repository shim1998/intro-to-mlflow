{
 "cells": [
  {
   "cell_type": "markdown",
   "id": "2c5f5e8e",
   "metadata": {},
   "source": [
    "# INSTALL THE REQUIREMENTS"
   ]
  },
  {
   "cell_type": "code",
   "execution_count": 4,
   "id": "94893862",
   "metadata": {},
   "outputs": [
    {
     "name": "stdout",
     "output_type": "stream",
     "text": [
      "Requirement already satisfied: notebook in ./mlflowenv/lib/python3.10/site-packages (from -r requirements.txt (line 1)) (6.4.7)\n",
      "Requirement already satisfied: mlflow in ./mlflowenv/lib/python3.10/site-packages (from -r requirements.txt (line 2)) (1.23.0)\n",
      "Requirement already satisfied: pandas in ./mlflowenv/lib/python3.10/site-packages (from -r requirements.txt (line 3)) (1.3.5)\n",
      "Requirement already satisfied: scikit-learn in ./mlflowenv/lib/python3.10/site-packages (from -r requirements.txt (line 4)) (1.0.2)\n",
      "Requirement already satisfied: Send2Trash>=1.8.0 in ./mlflowenv/lib/python3.10/site-packages (from notebook->-r requirements.txt (line 1)) (1.8.0)\n",
      "Requirement already satisfied: tornado>=6.1 in ./mlflowenv/lib/python3.10/site-packages (from notebook->-r requirements.txt (line 1)) (6.1)\n",
      "Requirement already satisfied: jupyter-client>=5.3.4 in ./mlflowenv/lib/python3.10/site-packages (from notebook->-r requirements.txt (line 1)) (7.1.1)\n",
      "Requirement already satisfied: pyzmq>=17 in ./mlflowenv/lib/python3.10/site-packages (from notebook->-r requirements.txt (line 1)) (22.3.0)\n",
      "Requirement already satisfied: ipykernel in ./mlflowenv/lib/python3.10/site-packages (from notebook->-r requirements.txt (line 1)) (6.7.0)\n",
      "Requirement already satisfied: nest-asyncio>=1.5 in ./mlflowenv/lib/python3.10/site-packages (from notebook->-r requirements.txt (line 1)) (1.5.4)\n",
      "Requirement already satisfied: nbconvert in ./mlflowenv/lib/python3.10/site-packages (from notebook->-r requirements.txt (line 1)) (6.4.0)\n",
      "Requirement already satisfied: nbformat in ./mlflowenv/lib/python3.10/site-packages (from notebook->-r requirements.txt (line 1)) (5.1.3)\n",
      "Requirement already satisfied: terminado>=0.8.3 in ./mlflowenv/lib/python3.10/site-packages (from notebook->-r requirements.txt (line 1)) (0.12.1)\n",
      "Requirement already satisfied: ipython-genutils in ./mlflowenv/lib/python3.10/site-packages (from notebook->-r requirements.txt (line 1)) (0.2.0)\n",
      "Requirement already satisfied: argon2-cffi in ./mlflowenv/lib/python3.10/site-packages (from notebook->-r requirements.txt (line 1)) (21.3.0)\n",
      "Requirement already satisfied: traitlets>=4.2.1 in ./mlflowenv/lib/python3.10/site-packages (from notebook->-r requirements.txt (line 1)) (5.1.1)\n",
      "Requirement already satisfied: jupyter-core>=4.6.1 in ./mlflowenv/lib/python3.10/site-packages (from notebook->-r requirements.txt (line 1)) (4.9.1)\n",
      "Requirement already satisfied: prometheus-client in ./mlflowenv/lib/python3.10/site-packages (from notebook->-r requirements.txt (line 1)) (0.12.0)\n",
      "Requirement already satisfied: jinja2 in ./mlflowenv/lib/python3.10/site-packages (from notebook->-r requirements.txt (line 1)) (3.0.3)\n",
      "Requirement already satisfied: databricks-cli>=0.8.7 in ./mlflowenv/lib/python3.10/site-packages (from mlflow->-r requirements.txt (line 2)) (0.16.2)\n",
      "Requirement already satisfied: sqlparse>=0.3.1 in ./mlflowenv/lib/python3.10/site-packages (from mlflow->-r requirements.txt (line 2)) (0.4.2)\n",
      "Requirement already satisfied: gunicorn in ./mlflowenv/lib/python3.10/site-packages (from mlflow->-r requirements.txt (line 2)) (20.1.0)\n",
      "Requirement already satisfied: cloudpickle in ./mlflowenv/lib/python3.10/site-packages (from mlflow->-r requirements.txt (line 2)) (2.0.0)\n",
      "Requirement already satisfied: scipy in ./mlflowenv/lib/python3.10/site-packages (from mlflow->-r requirements.txt (line 2)) (1.7.3)\n",
      "Requirement already satisfied: click>=7.0 in ./mlflowenv/lib/python3.10/site-packages (from mlflow->-r requirements.txt (line 2)) (8.0.3)\n",
      "Requirement already satisfied: Flask in ./mlflowenv/lib/python3.10/site-packages (from mlflow->-r requirements.txt (line 2)) (2.0.2)\n",
      "Requirement already satisfied: protobuf>=3.7.0 in ./mlflowenv/lib/python3.10/site-packages (from mlflow->-r requirements.txt (line 2)) (3.19.3)\n",
      "Requirement already satisfied: alembic in ./mlflowenv/lib/python3.10/site-packages (from mlflow->-r requirements.txt (line 2)) (1.7.5)\n",
      "Requirement already satisfied: importlib-metadata!=4.7.0,>=3.7.0 in ./mlflowenv/lib/python3.10/site-packages (from mlflow->-r requirements.txt (line 2)) (4.10.1)\n",
      "Requirement already satisfied: gitpython>=2.1.0 in ./mlflowenv/lib/python3.10/site-packages (from mlflow->-r requirements.txt (line 2)) (3.1.26)\n",
      "Requirement already satisfied: requests>=2.17.3 in ./mlflowenv/lib/python3.10/site-packages (from mlflow->-r requirements.txt (line 2)) (2.27.1)\n",
      "Requirement already satisfied: prometheus-flask-exporter in ./mlflowenv/lib/python3.10/site-packages (from mlflow->-r requirements.txt (line 2)) (0.18.7)\n",
      "Requirement already satisfied: numpy in ./mlflowenv/lib/python3.10/site-packages (from mlflow->-r requirements.txt (line 2)) (1.22.1)\n",
      "Requirement already satisfied: querystring-parser in ./mlflowenv/lib/python3.10/site-packages (from mlflow->-r requirements.txt (line 2)) (1.2.4)\n",
      "Requirement already satisfied: pyyaml>=5.1 in ./mlflowenv/lib/python3.10/site-packages (from mlflow->-r requirements.txt (line 2)) (6.0)\n",
      "Requirement already satisfied: entrypoints in ./mlflowenv/lib/python3.10/site-packages (from mlflow->-r requirements.txt (line 2)) (0.3)\n",
      "Requirement already satisfied: packaging in ./mlflowenv/lib/python3.10/site-packages (from mlflow->-r requirements.txt (line 2)) (21.3)\n",
      "Requirement already satisfied: pytz in ./mlflowenv/lib/python3.10/site-packages (from mlflow->-r requirements.txt (line 2)) (2021.3)\n",
      "Requirement already satisfied: sqlalchemy in ./mlflowenv/lib/python3.10/site-packages (from mlflow->-r requirements.txt (line 2)) (1.4.29)\n",
      "Requirement already satisfied: docker>=4.0.0 in ./mlflowenv/lib/python3.10/site-packages (from mlflow->-r requirements.txt (line 2)) (5.0.3)\n",
      "Requirement already satisfied: python-dateutil>=2.7.3 in ./mlflowenv/lib/python3.10/site-packages (from pandas->-r requirements.txt (line 3)) (2.8.2)\n",
      "Requirement already satisfied: joblib>=0.11 in ./mlflowenv/lib/python3.10/site-packages (from scikit-learn->-r requirements.txt (line 4)) (1.1.0)\n",
      "Requirement already satisfied: threadpoolctl>=2.0.0 in ./mlflowenv/lib/python3.10/site-packages (from scikit-learn->-r requirements.txt (line 4)) (3.0.0)\n",
      "Requirement already satisfied: tabulate>=0.7.7 in ./mlflowenv/lib/python3.10/site-packages (from databricks-cli>=0.8.7->mlflow->-r requirements.txt (line 2)) (0.8.9)\n",
      "Requirement already satisfied: six>=1.10.0 in ./mlflowenv/lib/python3.10/site-packages (from databricks-cli>=0.8.7->mlflow->-r requirements.txt (line 2)) (1.16.0)\n",
      "Requirement already satisfied: websocket-client>=0.32.0 in ./mlflowenv/lib/python3.10/site-packages (from docker>=4.0.0->mlflow->-r requirements.txt (line 2)) (1.2.3)\n",
      "Requirement already satisfied: gitdb<5,>=4.0.1 in ./mlflowenv/lib/python3.10/site-packages (from gitpython>=2.1.0->mlflow->-r requirements.txt (line 2)) (4.0.9)\n",
      "Requirement already satisfied: smmap<6,>=3.0.1 in ./mlflowenv/lib/python3.10/site-packages (from gitdb<5,>=4.0.1->gitpython>=2.1.0->mlflow->-r requirements.txt (line 2)) (5.0.0)\n",
      "Requirement already satisfied: zipp>=0.5 in ./mlflowenv/lib/python3.10/site-packages (from importlib-metadata!=4.7.0,>=3.7.0->mlflow->-r requirements.txt (line 2)) (3.7.0)\n",
      "Requirement already satisfied: certifi>=2017.4.17 in ./mlflowenv/lib/python3.10/site-packages (from requests>=2.17.3->mlflow->-r requirements.txt (line 2)) (2021.10.8)\n",
      "Requirement already satisfied: urllib3<1.27,>=1.21.1 in ./mlflowenv/lib/python3.10/site-packages (from requests>=2.17.3->mlflow->-r requirements.txt (line 2)) (1.26.8)\n",
      "Requirement already satisfied: idna<4,>=2.5 in ./mlflowenv/lib/python3.10/site-packages (from requests>=2.17.3->mlflow->-r requirements.txt (line 2)) (3.3)\n",
      "Requirement already satisfied: charset-normalizer~=2.0.0 in ./mlflowenv/lib/python3.10/site-packages (from requests>=2.17.3->mlflow->-r requirements.txt (line 2)) (2.0.10)\n",
      "Requirement already satisfied: ptyprocess in ./mlflowenv/lib/python3.10/site-packages (from terminado>=0.8.3->notebook->-r requirements.txt (line 1)) (0.7.0)\n",
      "Requirement already satisfied: Mako in ./mlflowenv/lib/python3.10/site-packages (from alembic->mlflow->-r requirements.txt (line 2)) (1.1.6)\n",
      "Requirement already satisfied: greenlet!=0.4.17 in ./mlflowenv/lib/python3.10/site-packages (from sqlalchemy->mlflow->-r requirements.txt (line 2)) (1.1.2)\n",
      "Requirement already satisfied: argon2-cffi-bindings in ./mlflowenv/lib/python3.10/site-packages (from argon2-cffi->notebook->-r requirements.txt (line 1)) (21.2.0)\n",
      "Requirement already satisfied: cffi>=1.0.1 in ./mlflowenv/lib/python3.10/site-packages (from argon2-cffi-bindings->argon2-cffi->notebook->-r requirements.txt (line 1)) (1.15.0)\n"
     ]
    },
    {
     "name": "stdout",
     "output_type": "stream",
     "text": [
      "Requirement already satisfied: pycparser in ./mlflowenv/lib/python3.10/site-packages (from cffi>=1.0.1->argon2-cffi-bindings->argon2-cffi->notebook->-r requirements.txt (line 1)) (2.21)\n",
      "Requirement already satisfied: itsdangerous>=2.0 in ./mlflowenv/lib/python3.10/site-packages (from Flask->mlflow->-r requirements.txt (line 2)) (2.0.1)\n",
      "Requirement already satisfied: Werkzeug>=2.0 in ./mlflowenv/lib/python3.10/site-packages (from Flask->mlflow->-r requirements.txt (line 2)) (2.0.2)\n",
      "Requirement already satisfied: MarkupSafe>=2.0 in ./mlflowenv/lib/python3.10/site-packages (from jinja2->notebook->-r requirements.txt (line 1)) (2.0.1)\n",
      "Requirement already satisfied: setuptools>=3.0 in ./mlflowenv/lib/python3.10/site-packages (from gunicorn->mlflow->-r requirements.txt (line 2)) (58.1.0)\n",
      "Requirement already satisfied: debugpy<2.0,>=1.0.0 in ./mlflowenv/lib/python3.10/site-packages (from ipykernel->notebook->-r requirements.txt (line 1)) (1.5.1)\n",
      "Requirement already satisfied: matplotlib-inline<0.2.0,>=0.1.0 in ./mlflowenv/lib/python3.10/site-packages (from ipykernel->notebook->-r requirements.txt (line 1)) (0.1.3)\n",
      "Requirement already satisfied: ipython>=7.23.1 in ./mlflowenv/lib/python3.10/site-packages (from ipykernel->notebook->-r requirements.txt (line 1)) (8.0.0)\n",
      "Requirement already satisfied: pickleshare in ./mlflowenv/lib/python3.10/site-packages (from ipython>=7.23.1->ipykernel->notebook->-r requirements.txt (line 1)) (0.7.5)\n",
      "Requirement already satisfied: backcall in ./mlflowenv/lib/python3.10/site-packages (from ipython>=7.23.1->ipykernel->notebook->-r requirements.txt (line 1)) (0.2.0)\n",
      "Requirement already satisfied: stack-data in ./mlflowenv/lib/python3.10/site-packages (from ipython>=7.23.1->ipykernel->notebook->-r requirements.txt (line 1)) (0.1.4)\n",
      "Requirement already satisfied: decorator in ./mlflowenv/lib/python3.10/site-packages (from ipython>=7.23.1->ipykernel->notebook->-r requirements.txt (line 1)) (5.1.1)\n",
      "Requirement already satisfied: pexpect>4.3 in ./mlflowenv/lib/python3.10/site-packages (from ipython>=7.23.1->ipykernel->notebook->-r requirements.txt (line 1)) (4.8.0)\n",
      "Requirement already satisfied: jedi>=0.16 in ./mlflowenv/lib/python3.10/site-packages (from ipython>=7.23.1->ipykernel->notebook->-r requirements.txt (line 1)) (0.18.1)\n",
      "Requirement already satisfied: pygments in ./mlflowenv/lib/python3.10/site-packages (from ipython>=7.23.1->ipykernel->notebook->-r requirements.txt (line 1)) (2.11.2)\n",
      "Requirement already satisfied: black in ./mlflowenv/lib/python3.10/site-packages (from ipython>=7.23.1->ipykernel->notebook->-r requirements.txt (line 1)) (21.12b0)\n",
      "Requirement already satisfied: prompt-toolkit!=3.0.0,!=3.0.1,<3.1.0,>=2.0.0 in ./mlflowenv/lib/python3.10/site-packages (from ipython>=7.23.1->ipykernel->notebook->-r requirements.txt (line 1)) (3.0.24)\n",
      "Requirement already satisfied: parso<0.9.0,>=0.8.0 in ./mlflowenv/lib/python3.10/site-packages (from jedi>=0.16->ipython>=7.23.1->ipykernel->notebook->-r requirements.txt (line 1)) (0.8.3)\n",
      "Requirement already satisfied: wcwidth in ./mlflowenv/lib/python3.10/site-packages (from prompt-toolkit!=3.0.0,!=3.0.1,<3.1.0,>=2.0.0->ipython>=7.23.1->ipykernel->notebook->-r requirements.txt (line 1)) (0.2.5)\n",
      "Requirement already satisfied: pathspec<1,>=0.9.0 in ./mlflowenv/lib/python3.10/site-packages (from black->ipython>=7.23.1->ipykernel->notebook->-r requirements.txt (line 1)) (0.9.0)\n",
      "Requirement already satisfied: platformdirs>=2 in ./mlflowenv/lib/python3.10/site-packages (from black->ipython>=7.23.1->ipykernel->notebook->-r requirements.txt (line 1)) (2.4.1)\n",
      "Requirement already satisfied: typing-extensions>=3.10.0.0 in ./mlflowenv/lib/python3.10/site-packages (from black->ipython>=7.23.1->ipykernel->notebook->-r requirements.txt (line 1)) (4.0.1)\n",
      "Requirement already satisfied: mypy-extensions>=0.4.3 in ./mlflowenv/lib/python3.10/site-packages (from black->ipython>=7.23.1->ipykernel->notebook->-r requirements.txt (line 1)) (0.4.3)\n",
      "Requirement already satisfied: tomli<2.0.0,>=0.2.6 in ./mlflowenv/lib/python3.10/site-packages (from black->ipython>=7.23.1->ipykernel->notebook->-r requirements.txt (line 1)) (1.2.3)\n",
      "Requirement already satisfied: pandocfilters>=1.4.1 in ./mlflowenv/lib/python3.10/site-packages (from nbconvert->notebook->-r requirements.txt (line 1)) (1.5.0)\n",
      "Requirement already satisfied: mistune<2,>=0.8.1 in ./mlflowenv/lib/python3.10/site-packages (from nbconvert->notebook->-r requirements.txt (line 1)) (0.8.4)\n",
      "Requirement already satisfied: bleach in ./mlflowenv/lib/python3.10/site-packages (from nbconvert->notebook->-r requirements.txt (line 1)) (4.1.0)\n",
      "Requirement already satisfied: testpath in ./mlflowenv/lib/python3.10/site-packages (from nbconvert->notebook->-r requirements.txt (line 1)) (0.5.0)\n",
      "Requirement already satisfied: defusedxml in ./mlflowenv/lib/python3.10/site-packages (from nbconvert->notebook->-r requirements.txt (line 1)) (0.7.1)\n",
      "Requirement already satisfied: jupyterlab-pygments in ./mlflowenv/lib/python3.10/site-packages (from nbconvert->notebook->-r requirements.txt (line 1)) (0.1.2)\n",
      "Requirement already satisfied: nbclient<0.6.0,>=0.5.0 in ./mlflowenv/lib/python3.10/site-packages (from nbconvert->notebook->-r requirements.txt (line 1)) (0.5.10)\n",
      "Requirement already satisfied: jsonschema!=2.5.0,>=2.4 in ./mlflowenv/lib/python3.10/site-packages (from nbformat->notebook->-r requirements.txt (line 1)) (4.4.0)\n",
      "Requirement already satisfied: pyrsistent!=0.17.0,!=0.17.1,!=0.17.2,>=0.14.0 in ./mlflowenv/lib/python3.10/site-packages (from jsonschema!=2.5.0,>=2.4->nbformat->notebook->-r requirements.txt (line 1)) (0.18.1)\n",
      "Requirement already satisfied: attrs>=17.4.0 in ./mlflowenv/lib/python3.10/site-packages (from jsonschema!=2.5.0,>=2.4->nbformat->notebook->-r requirements.txt (line 1)) (21.4.0)\n",
      "Requirement already satisfied: webencodings in ./mlflowenv/lib/python3.10/site-packages (from bleach->nbconvert->notebook->-r requirements.txt (line 1)) (0.5.1)\n",
      "Requirement already satisfied: pyparsing!=3.0.5,>=2.0.2 in ./mlflowenv/lib/python3.10/site-packages (from packaging->mlflow->-r requirements.txt (line 2)) (3.0.6)\n",
      "Requirement already satisfied: executing in ./mlflowenv/lib/python3.10/site-packages (from stack-data->ipython>=7.23.1->ipykernel->notebook->-r requirements.txt (line 1)) (0.8.2)\n",
      "Requirement already satisfied: pure-eval in ./mlflowenv/lib/python3.10/site-packages (from stack-data->ipython>=7.23.1->ipykernel->notebook->-r requirements.txt (line 1)) (0.2.1)\n",
      "Requirement already satisfied: asttokens in ./mlflowenv/lib/python3.10/site-packages (from stack-data->ipython>=7.23.1->ipykernel->notebook->-r requirements.txt (line 1)) (2.0.5)\n",
      "\u001b[33mWARNING: You are using pip version 21.2.4; however, version 21.3.1 is available.\n",
      "You should consider upgrading via the '/home/shimthemage/Desktop/intro-to-mlflow/mlflowenv/bin/python -m pip install --upgrade pip' command.\u001b[0m\n"
     ]
    }
   ],
   "source": [
    "!pip install -r requirements.txt"
   ]
  },
  {
   "cell_type": "code",
   "execution_count": 2,
   "id": "f2d0dd2f",
   "metadata": {},
   "outputs": [],
   "source": [
    "import pandas as pd"
   ]
  },
  {
   "cell_type": "code",
   "execution_count": null,
   "id": "8d3076eb",
   "metadata": {},
   "outputs": [],
   "source": [
    "X = pd.read_csv('X.csv')"
   ]
  }
 ],
 "metadata": {
  "kernelspec": {
   "display_name": "Python 3 (ipykernel)",
   "language": "python",
   "name": "python3"
  },
  "language_info": {
   "codemirror_mode": {
    "name": "ipython",
    "version": 3
   },
   "file_extension": ".py",
   "mimetype": "text/x-python",
   "name": "python",
   "nbconvert_exporter": "python",
   "pygments_lexer": "ipython3",
   "version": "3.10.1"
  }
 },
 "nbformat": 4,
 "nbformat_minor": 5
}
